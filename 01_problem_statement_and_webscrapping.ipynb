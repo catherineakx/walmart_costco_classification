{
 "cells": [
  {
   "cell_type": "markdown",
   "metadata": {},
   "source": [
    "# Project 3: Project #GetWellPlan\n",
    "---"
   ]
  },
  {
   "cell_type": "markdown",
   "metadata": {},
   "source": [
    "**Organization of Project Notebooks:**\n",
    "- **Notebook #1: Problem Statement & Webscrapping** (current notebook)\n",
    "- Notebook #2: [Data Cleaning & Exploratory Data Analysis](./02_data_cleaning_and_eda.ipynb)\n",
    "- Notebook #3: [Preprocessing & Modelling](./03_preprocessing_and_modelling.ipynb)\n",
    "- Notebook #4: [Sentiment Analysis & Recommendations](./04_sentiment_analysis_and_recommendations.ipynb)"
   ]
  },
  {
   "cell_type": "markdown",
   "metadata": {},
   "source": [
    "## Notebook #1: Problem Statement & Webscrapping"
   ]
  },
  {
   "cell_type": "markdown",
   "metadata": {},
   "source": [
    "### Contents\n",
    "- [1. Introduction](#1.-Introduction)\n",
    "- [2. Problem Statement](#2.-Problem-Statement)\n",
    "- [3. Executive Summary](#3.-Executive-Summary)\n",
    "- [4. Data Dictionary](#4.-Data-Dictionary)\n",
    "- [5. Webscrapping](#5.-Webscrapping)"
   ]
  },
  {
   "cell_type": "markdown",
   "metadata": {},
   "source": [
    "### 1. Introduction\n",
    "\n",
    "Based on the **American Consumer Satisfaction Index (ACSI) Retail and Consumer Shipping Report 2020-2021** (released in March 2021), the retail industry (comprising supermarkets, health and personal care stores, department and discount stores, specialty retail stores, online retail and gas stations) experienced a decline in the customer satisfaction score (75.7 out of 100) in 2020 as a result of the COVID-19 pandemic – its lowest score ever since 2015.\n",
    "\n",
    "Within the supermarkets segment, there was a 2.6% reduction in its ACSI score to 76 in 2020 (from 78 in 2019), with 17 of the 20 major brands atttaining lower customer satisfaction scores (Fig 1). **Specifically, Walmart had a 3% decline to 71 in 2020 (from 73 in 2019; scores continued to range below the average), and remained in the bottom position consecutively in 2019 and 2020**.\n",
    "\n",
    "<img src='./images/us-supermarkets-acsi-scores.jpg' width=700 align=center>\n",
    "<center><font size=2 color='grey'>(Fig 1. The American Customer Satisfaction Index of Supermarkets in 2019 and 2020.)</font></center>\n",
    "\n",
    "\n",
    "Source: [Russell Redman (March 2021)](https://www.supermarketnews.com/issues-trends/customer-satisfaction-fell-supermarkets-2020)"
   ]
  },
  {
   "cell_type": "markdown",
   "metadata": {},
   "source": [
    "### 2. Problem Statement\n",
    "\n",
    "To **move up the ranks in ACSI 2021**, the Executive Management has requested for a thorough review of the existing customer journey at Walmart, brand image of Walmart, and aspects that need to be addressed to improve the customer experience and satisfaction level. \n",
    "\n",
    "As part of the Social Media Branding team at Walmart, we have been tasked to improve the company's brand image on social media sites. For a start, we will be looking into what users are saying on Walmart's Reddit page, alongside a chosen competitor – Costco – given that Costco has retained its 2nd position ranking across 2019 and 2020. \n",
    "\n",
    "A classification model can be developed to predict whether a Reddit post belongs to Walmart or Costco based on the words it contains, and metrics such as accuracy, precision, recall and ROC-AUC scores can be employed to evaluate the model's performance. In addition, a sentiment analysis can be conducted to determine whether the post has positive, neutral or negative sentiment, before arriving at the recommendations to improve the brand image online.\n",
    "\n",
    "Essentially, this project aims to achieve the following objectives: \n",
    "- **Primary Objective**: To enhance our understanding of Walmart's brand image on Reddit, in comparison to Costco's, so to introduce a series of strategies for improvement. \n",
    "\n",
    "- **Secondary Objective**: To identify positive and negative feedback from Reddit users regarding both supermarkets, where positive feedback will be reinforced and/or implemented, while negative feedback can be addressed and prevented. \n",
    "\n",
    "Our primary stakeholders include employees at Walmart Corporation, while our secondary stakeholders include customers of Walmart."
   ]
  },
  {
   "cell_type": "markdown",
   "metadata": {},
   "source": [
    "### 3. Executive Summary\n",
    "\n",
    "*INTRODUCTION*\n",
    "\n",
    "With Walmart remaining in the bottom position consecutively in the supermarket segment in ACSI 2019 and 2020, this initiative aims to understand what users are saying on Walmart's social media sites in comparison to Costco, and implementing changes that can positively improve the customer experience, as well as the company's brand image online. The social media site that will be explored in this project is Reddit, which is a platform consisting of American social news, ratings for web content, and discussion forums created by users (source: [Reddit (2021)](https://www.reddit.com/)). Users are able to post contents such as images, texts, videos and links within the respective subreddits, and can express their likes/dislikes for particular posts by either voting the post up or down. \n",
    "\n",
    "We will be analyzing posts from the Walmart subreddit ([r/walmart](https://www.reddit.com/r/walmart/)) and Costco subreddit ([r/Costco](https://www.reddit.com/r/Costco/)). While both are well-known supermarket brands in the United States (U.S.), their different business models could have resulted in varying customer experience and brand image.\n",
    "\n",
    "\n",
    "\n",
    "*METHODOLOGY*\n",
    "\n",
    "A data science workflow was introduced to conduct this analysis. Firstly, the problem statement was defined — how is Walmart's brand image on Reddit like compared to Costco's, and what are the positive and negative feedback from Reddit users about both supermarkets that need to be addressed, so as to enable Walmart to improve its brand image on social media sites and move up the ranks in ACSI 2021 with higher customer satisfaction scores. Next, the contents of the posts on Walmart and Costco subreddits were extracted via webscrapping using the Python Reddit API Wrapper (PRAW). \n",
    "\n",
    "Thereafter, an exploratory data analysis was conducted to identify the top one-word and two-word phrases that appeared frequently in the respective subreddit pages. New features such as the character length of the posts were engineered, and relationships between Walmart and Costco were visualized using a series of histograms, boxplots and bar charts. Concurrently, external research about the background of the commonly occurring words was carried out, to understand factors that could have affected the customer satisfaction. It was interesting to observe that Walmart's subreddit contained mainly posts from the employees, whereas those on Costco's were contributed by customers.  \n",
    "\n",
    "A classification model was developed, with multiple combinations of vectorizers and models being tested to predict whether a random post belonged to Walmart or Costco. Metrics such as accuracy, precision, recall and ROC-AUC scores were utilised to evaluate the models' performances. Eventually, the final combination selected was a Logistic Regression model coupled with TF-IDF (Term Frequency-Inverse Document Frequency) Vectorizer — it was capable of making predictions with an accuracy score of 78.0% *(which was 27% higher than baseline accuracy)*. A grid search was carried out to finetune the parameters used for the modelling, though it did not improve the model's accuracy further. \n",
    "\n",
    "Lastly, a sentiment analysis was conducted to determine whether the posts on the respective subreddit pages had positive, neutral or negative sentiment. Based on this analysis, recommendations for Walmart were compiled which included improving the employee experience first, followed by enhancing the customer journey, in order to improve the brand image online. \n",
    "\n",
    "\n",
    "\n",
    "*FINDINGS*\n",
    "\n",
    "The top 10 words that identified whether a post belonged to **Walmart** were (in the order of increasing importance): \n",
    "- 'loa', 'vaccine', 'lol', 'covid', 'ppto', 'getting', 'pallet', 'store', 'associate', 'customer'.\n",
    "     \n",
    "On the other hand, the top 10 words that identified whether a post belonged to **Costco** were (in the order of increasing importance): \n",
    "- 'experience', 'anyone', 'online', 'good', 'delivery', 'best', 'pizza', 'food', 'membership', 'chicken'. \n",
    "\n",
    "The sentiment analysis revealed that Walmart's subreddit contained 6.5% positive posts, 86.9% neutral posts and 6.6% negative posts, whereas that of Costco's contained 14.8% positive posts, 81.8% neutral posts and 3.4% negative posts. This revealed a higher proportion of Walmart's posts being identified as negative, compared to those of Costco's, and would need to be looked into to understand the source of negativity."
   ]
  },
  {
   "cell_type": "markdown",
   "metadata": {},
   "source": [
    "### 4. Data Dictionary\n",
    "\n",
    "|Feature|Type|Dataset|Description|\n",
    "|---|---|---|---|\n",
    "|author|object|walmart_posts, walmart_posts_actual|author of each post\n",
    "|created_utc|float|walmart_posts, walmart_posts_actual|date and time the post is created\n",
    "|id|object|walmart_posts, walmart_posts_actual|id of each post\n",
    "|num_comments|integer|walmart_posts, walmart_posts_actual|number of comments each post receives\n",
    "|score|integer|walmart_posts, walmart_posts_actual|number of upvotes a post has \n",
    "|selftext|object|walmart_posts, walmart_posts_actual|body text of each post\n",
    "|subreddit|object|walmart_posts, walmart_posts_actual|post belongs to Walmart\n",
    "|title|object|walmart_posts, walmart_posts_actual|title text of each post\n",
    "|url|object|walmart_posts, walmart_posts_actual|url website for each post\n",
    "|author|object|costco_posts, costco_posts_actual|author of each post\n",
    "|created_utc|float|costco_posts, costco_posts_actual|date and time the post is created\n",
    "|id|object|costco_posts, costco_posts_actual|id of each post\n",
    "|num_comments|integer|costco_posts, costco_posts_actual|number of comments each post receives\n",
    "|score|integer|costco_posts, costco_posts_actual|number of upvotes a post has \n",
    "|selftext|object|costco_posts, costco_posts_actual|body text of each post\n",
    "|subreddit|object|costco_posts, costco_posts_actual|post belongs to Costco\n",
    "|title|object|costco_posts, costco_posts_actual|title text of each post\n",
    "|url|object|costco_posts, costco_posts_actual|url website for each post"
   ]
  },
  {
   "cell_type": "markdown",
   "metadata": {},
   "source": [
    "### 5. Webscrapping\n",
    "\n",
    "To scrape data from Reddit, there are a few options available, which include using [Pushshift Reddit API](https://github.com/pushshift/api) or the [Python Reddit API Wrapper (PRAW)](https://praw.readthedocs.io/en/latest/getting_started/quick_start.html). The PRAW method is selected for this project, as it can easily retrieve fields from the Reddit pages while abiding by Reddit's API rules. In addition, it does not require any sleep calls to be introduced, and yet still able to pull around 1,000 posts at any point in time. \n",
    "\n",
    "Using PRAW, the following information was collected from both Walmart and Costco subreddits: \n",
    "- post author\n",
    "- post date\n",
    "- post ID\n",
    "- number of comments per post\n",
    "- post score (i.e. number of upvotes)\n",
    "- post text (body)\n",
    "- post title\n",
    "- post URL \n",
    "\n",
    "The data from this section will be explored in the [next notebook](./02_data_cleaning_and_eda.ipynb)."
   ]
  },
  {
   "cell_type": "code",
   "execution_count": 1,
   "metadata": {},
   "outputs": [],
   "source": [
    "# import praw package\n",
    "import praw"
   ]
  },
  {
   "cell_type": "code",
   "execution_count": 2,
   "metadata": {},
   "outputs": [
    {
     "name": "stderr",
     "output_type": "stream",
     "text": [
      "Version 7.0.0 of praw is outdated. Version 7.3.0 was released Thursday June 17, 2021.\n"
     ]
    }
   ],
   "source": [
    "# create a reddit instance\n",
    "reddit = praw.Reddit(client_id='iivfy0uYiyvCRw', \n",
    "                     client_secret='X8Ju_x3sRgCBP36-m8wdvwYsU2WRXw', \n",
    "                     user_agent='xinna_scrapping')"
   ]
  },
  {
   "cell_type": "code",
   "execution_count": 3,
   "metadata": {},
   "outputs": [],
   "source": [
    "# import the relevant package\n",
    "import pandas as pd"
   ]
  },
  {
   "cell_type": "markdown",
   "metadata": {},
   "source": [
    "#### Import posts from Walmart subreddit"
   ]
  },
  {
   "cell_type": "code",
   "execution_count": 4,
   "metadata": {},
   "outputs": [],
   "source": [
    "# import the top 1500 posts from walmart (based on score)\n",
    "walmart_posts = []\n",
    "walmart_subreddit = reddit.subreddit('walmart')\n",
    "\n",
    "for post in walmart_subreddit.hot(limit=1500):\n",
    "    walmart_posts.append([post.author, \n",
    "                          post.created_utc, \n",
    "                          post.id, \n",
    "                          post.num_comments, \n",
    "                          post.score, \n",
    "                          post.selftext, \n",
    "                          post.subreddit, \n",
    "                          post.title, \n",
    "                          post.url])"
   ]
  },
  {
   "cell_type": "code",
   "execution_count": 5,
   "metadata": {
    "scrolled": true
   },
   "outputs": [],
   "source": [
    "# store the posts in a DataFrame\n",
    "walmart_posts_df = pd.DataFrame(walmart_posts, columns=['author', \n",
    "                                                        'created_utc', \n",
    "                                                        'id', \n",
    "                                                        'num_comments', \n",
    "                                                        'score', \n",
    "                                                        'selftext', \n",
    "                                                        'subreddit', \n",
    "                                                        'title', \n",
    "                                                        'url'])"
   ]
  },
  {
   "cell_type": "code",
   "execution_count": 6,
   "metadata": {},
   "outputs": [
    {
     "data": {
      "text/html": [
       "<div>\n",
       "<style scoped>\n",
       "    .dataframe tbody tr th:only-of-type {\n",
       "        vertical-align: middle;\n",
       "    }\n",
       "\n",
       "    .dataframe tbody tr th {\n",
       "        vertical-align: top;\n",
       "    }\n",
       "\n",
       "    .dataframe thead th {\n",
       "        text-align: right;\n",
       "    }\n",
       "</style>\n",
       "<table border=\"1\" class=\"dataframe\">\n",
       "  <thead>\n",
       "    <tr style=\"text-align: right;\">\n",
       "      <th></th>\n",
       "      <th>author</th>\n",
       "      <th>created_utc</th>\n",
       "      <th>id</th>\n",
       "      <th>num_comments</th>\n",
       "      <th>score</th>\n",
       "      <th>selftext</th>\n",
       "      <th>subreddit</th>\n",
       "      <th>title</th>\n",
       "      <th>url</th>\n",
       "    </tr>\n",
       "  </thead>\n",
       "  <tbody>\n",
       "    <tr>\n",
       "      <th>0</th>\n",
       "      <td>armoreddillo</td>\n",
       "      <td>1.605935e+09</td>\n",
       "      <td>jy56so</td>\n",
       "      <td>434</td>\n",
       "      <td>4912</td>\n",
       "      <td>👆</td>\n",
       "      <td>walmart</td>\n",
       "      <td>If you're here, as a customer, to complain abo...</td>\n",
       "      <td>https://www.reddit.com/r/walmart/comments/jy56...</td>\n",
       "    </tr>\n",
       "    <tr>\n",
       "      <th>1</th>\n",
       "      <td>jasiad</td>\n",
       "      <td>1.624301e+09</td>\n",
       "      <td>o523jg</td>\n",
       "      <td>82</td>\n",
       "      <td>38</td>\n",
       "      <td>haha Johnathan you are making my retail experi...</td>\n",
       "      <td>walmart</td>\n",
       "      <td>Weekly Salt Thread 209 - See you all in Therapy!</td>\n",
       "      <td>https://www.reddit.com/r/walmart/comments/o523...</td>\n",
       "    </tr>\n",
       "    <tr>\n",
       "      <th>2</th>\n",
       "      <td>boobalogne</td>\n",
       "      <td>1.624623e+09</td>\n",
       "      <td>o7mgnw</td>\n",
       "      <td>7</td>\n",
       "      <td>61</td>\n",
       "      <td></td>\n",
       "      <td>walmart</td>\n",
       "      <td>Good morning</td>\n",
       "      <td>https://www.reddit.com/gallery/o7mgnw</td>\n",
       "    </tr>\n",
       "    <tr>\n",
       "      <th>3</th>\n",
       "      <td>Dabble007</td>\n",
       "      <td>1.624576e+09</td>\n",
       "      <td>o7b68g</td>\n",
       "      <td>22</td>\n",
       "      <td>496</td>\n",
       "      <td></td>\n",
       "      <td>walmart</td>\n",
       "      <td>We have been on a roll lately, BUT....</td>\n",
       "      <td>https://i.redd.it/79kur2k4pa771.jpg</td>\n",
       "    </tr>\n",
       "    <tr>\n",
       "      <th>4</th>\n",
       "      <td>bug1998</td>\n",
       "      <td>1.624599e+09</td>\n",
       "      <td>o7hdja</td>\n",
       "      <td>13</td>\n",
       "      <td>65</td>\n",
       "      <td></td>\n",
       "      <td>walmart</td>\n",
       "      <td>Cashiers are fed up with them cutting hours</td>\n",
       "      <td>https://i.redd.it/hrtjh50umc771.jpg</td>\n",
       "    </tr>\n",
       "  </tbody>\n",
       "</table>\n",
       "</div>"
      ],
      "text/plain": [
       "         author   created_utc      id  num_comments  score  \\\n",
       "0  armoreddillo  1.605935e+09  jy56so           434   4912   \n",
       "1        jasiad  1.624301e+09  o523jg            82     38   \n",
       "2    boobalogne  1.624623e+09  o7mgnw             7     61   \n",
       "3     Dabble007  1.624576e+09  o7b68g            22    496   \n",
       "4       bug1998  1.624599e+09  o7hdja            13     65   \n",
       "\n",
       "                                            selftext subreddit  \\\n",
       "0                                                  👆   walmart   \n",
       "1  haha Johnathan you are making my retail experi...   walmart   \n",
       "2                                                      walmart   \n",
       "3                                                      walmart   \n",
       "4                                                      walmart   \n",
       "\n",
       "                                               title  \\\n",
       "0  If you're here, as a customer, to complain abo...   \n",
       "1   Weekly Salt Thread 209 - See you all in Therapy!   \n",
       "2                                       Good morning   \n",
       "3             We have been on a roll lately, BUT....   \n",
       "4        Cashiers are fed up with them cutting hours   \n",
       "\n",
       "                                                 url  \n",
       "0  https://www.reddit.com/r/walmart/comments/jy56...  \n",
       "1  https://www.reddit.com/r/walmart/comments/o523...  \n",
       "2              https://www.reddit.com/gallery/o7mgnw  \n",
       "3                https://i.redd.it/79kur2k4pa771.jpg  \n",
       "4                https://i.redd.it/hrtjh50umc771.jpg  "
      ]
     },
     "execution_count": 6,
     "metadata": {},
     "output_type": "execute_result"
    }
   ],
   "source": [
    "# view the first 5 posts in the DataFrame\n",
    "walmart_posts_df.head()"
   ]
  },
  {
   "cell_type": "code",
   "execution_count": 7,
   "metadata": {},
   "outputs": [
    {
     "data": {
      "text/plain": [
       "(847, 9)"
      ]
     },
     "execution_count": 7,
     "metadata": {},
     "output_type": "execute_result"
    }
   ],
   "source": [
    "# view the shape of the DataFrame\n",
    "walmart_posts_df.shape"
   ]
  },
  {
   "cell_type": "code",
   "execution_count": 8,
   "metadata": {},
   "outputs": [],
   "source": [
    "# export the walmart posts DataFrame as csv file\n",
    "walmart_posts_df.to_csv('datasets/walmart_posts.csv')"
   ]
  },
  {
   "cell_type": "markdown",
   "metadata": {},
   "source": [
    "#### Import posts from Costco subreddit"
   ]
  },
  {
   "cell_type": "code",
   "execution_count": 9,
   "metadata": {},
   "outputs": [],
   "source": [
    "# import the top 1500 posts from Costco (based on score)\n",
    "costco_posts = []\n",
    "costco_subreddit = reddit.subreddit('Costco')\n",
    "\n",
    "for post in costco_subreddit.hot(limit=1500):\n",
    "    costco_posts.append([post.author, \n",
    "                         post.created_utc, \n",
    "                         post.id, \n",
    "                         post.num_comments, \n",
    "                         post.score, \n",
    "                         post.selftext, \n",
    "                         post.subreddit, \n",
    "                         post.title, \n",
    "                         post.url])"
   ]
  },
  {
   "cell_type": "code",
   "execution_count": 10,
   "metadata": {
    "scrolled": true
   },
   "outputs": [],
   "source": [
    "# store the posts in a DataFrame\n",
    "costco_posts_df = pd.DataFrame(costco_posts, columns=['author', \n",
    "                                                      'created_utc', \n",
    "                                                      'id', \n",
    "                                                      'num_comments', \n",
    "                                                      'score', \n",
    "                                                      'selftext', \n",
    "                                                      'subreddit', \n",
    "                                                      'title', \n",
    "                                                      'url'])"
   ]
  },
  {
   "cell_type": "code",
   "execution_count": 11,
   "metadata": {},
   "outputs": [
    {
     "data": {
      "text/html": [
       "<div>\n",
       "<style scoped>\n",
       "    .dataframe tbody tr th:only-of-type {\n",
       "        vertical-align: middle;\n",
       "    }\n",
       "\n",
       "    .dataframe tbody tr th {\n",
       "        vertical-align: top;\n",
       "    }\n",
       "\n",
       "    .dataframe thead th {\n",
       "        text-align: right;\n",
       "    }\n",
       "</style>\n",
       "<table border=\"1\" class=\"dataframe\">\n",
       "  <thead>\n",
       "    <tr style=\"text-align: right;\">\n",
       "      <th></th>\n",
       "      <th>author</th>\n",
       "      <th>created_utc</th>\n",
       "      <th>id</th>\n",
       "      <th>num_comments</th>\n",
       "      <th>score</th>\n",
       "      <th>selftext</th>\n",
       "      <th>subreddit</th>\n",
       "      <th>title</th>\n",
       "      <th>url</th>\n",
       "    </tr>\n",
       "  </thead>\n",
       "  <tbody>\n",
       "    <tr>\n",
       "      <th>0</th>\n",
       "      <td>dyzlexiK</td>\n",
       "      <td>1.616428e+09</td>\n",
       "      <td>maqvfw</td>\n",
       "      <td>278</td>\n",
       "      <td>1378</td>\n",
       "      <td>Hey All,\\n\\nRecently we caught and banned a us...</td>\n",
       "      <td>Costco</td>\n",
       "      <td>Always use your best judgement before buying a...</td>\n",
       "      <td>https://www.reddit.com/r/Costco/comments/maqvf...</td>\n",
       "    </tr>\n",
       "    <tr>\n",
       "      <th>1</th>\n",
       "      <td>Nardelan</td>\n",
       "      <td>1.623716e+09</td>\n",
       "      <td>o00s9e</td>\n",
       "      <td>8</td>\n",
       "      <td>112</td>\n",
       "      <td>**Rule 5**: Item name required in post titles ...</td>\n",
       "      <td>Costco</td>\n",
       "      <td>Please See The New Rule Added For Posting In T...</td>\n",
       "      <td>https://www.reddit.com/r/Costco/comments/o00s9...</td>\n",
       "    </tr>\n",
       "    <tr>\n",
       "      <th>2</th>\n",
       "      <td>daenu80</td>\n",
       "      <td>1.624577e+09</td>\n",
       "      <td>o7bcie</td>\n",
       "      <td>110</td>\n",
       "      <td>673</td>\n",
       "      <td></td>\n",
       "      <td>Costco</td>\n",
       "      <td>Whoever did this should have their membership ...</td>\n",
       "      <td>https://i.redd.it/lcvvvv1pqa771.jpg</td>\n",
       "    </tr>\n",
       "    <tr>\n",
       "      <th>3</th>\n",
       "      <td>Joe2700</td>\n",
       "      <td>1.624591e+09</td>\n",
       "      <td>o7fdzm</td>\n",
       "      <td>6</td>\n",
       "      <td>38</td>\n",
       "      <td></td>\n",
       "      <td>Costco</td>\n",
       "      <td>I'm going to be the coolest dad at the office....</td>\n",
       "      <td>https://imgur.com/rUbjJ2P</td>\n",
       "    </tr>\n",
       "    <tr>\n",
       "      <th>4</th>\n",
       "      <td>Front-Contribution91</td>\n",
       "      <td>1.624574e+09</td>\n",
       "      <td>o7ame6</td>\n",
       "      <td>52</td>\n",
       "      <td>73</td>\n",
       "      <td></td>\n",
       "      <td>Costco</td>\n",
       "      <td>Be honest, is it worth it?</td>\n",
       "      <td>https://i.redd.it/8fv3mb4gka771.jpg</td>\n",
       "    </tr>\n",
       "  </tbody>\n",
       "</table>\n",
       "</div>"
      ],
      "text/plain": [
       "                 author   created_utc      id  num_comments  score  \\\n",
       "0              dyzlexiK  1.616428e+09  maqvfw           278   1378   \n",
       "1              Nardelan  1.623716e+09  o00s9e             8    112   \n",
       "2               daenu80  1.624577e+09  o7bcie           110    673   \n",
       "3               Joe2700  1.624591e+09  o7fdzm             6     38   \n",
       "4  Front-Contribution91  1.624574e+09  o7ame6            52     73   \n",
       "\n",
       "                                            selftext subreddit  \\\n",
       "0  Hey All,\\n\\nRecently we caught and banned a us...    Costco   \n",
       "1  **Rule 5**: Item name required in post titles ...    Costco   \n",
       "2                                                       Costco   \n",
       "3                                                       Costco   \n",
       "4                                                       Costco   \n",
       "\n",
       "                                               title  \\\n",
       "0  Always use your best judgement before buying a...   \n",
       "1  Please See The New Rule Added For Posting In T...   \n",
       "2  Whoever did this should have their membership ...   \n",
       "3  I'm going to be the coolest dad at the office....   \n",
       "4                         Be honest, is it worth it?   \n",
       "\n",
       "                                                 url  \n",
       "0  https://www.reddit.com/r/Costco/comments/maqvf...  \n",
       "1  https://www.reddit.com/r/Costco/comments/o00s9...  \n",
       "2                https://i.redd.it/lcvvvv1pqa771.jpg  \n",
       "3                          https://imgur.com/rUbjJ2P  \n",
       "4                https://i.redd.it/8fv3mb4gka771.jpg  "
      ]
     },
     "execution_count": 11,
     "metadata": {},
     "output_type": "execute_result"
    }
   ],
   "source": [
    "# view the first 5 posts in the DataFrame\n",
    "costco_posts_df.head()"
   ]
  },
  {
   "cell_type": "code",
   "execution_count": 12,
   "metadata": {
    "scrolled": true
   },
   "outputs": [
    {
     "data": {
      "text/plain": [
       "(964, 9)"
      ]
     },
     "execution_count": 12,
     "metadata": {},
     "output_type": "execute_result"
    }
   ],
   "source": [
    "# view the shape of the DataFrame\n",
    "costco_posts_df.shape"
   ]
  },
  {
   "cell_type": "code",
   "execution_count": 13,
   "metadata": {},
   "outputs": [],
   "source": [
    "# export the costco posts DataFrame as csv file\n",
    "costco_posts_df.to_csv('datasets/costco_posts.csv')"
   ]
  }
 ],
 "metadata": {
  "kernelspec": {
   "display_name": "Python 3",
   "language": "python",
   "name": "python3"
  },
  "language_info": {
   "codemirror_mode": {
    "name": "ipython",
    "version": 3
   },
   "file_extension": ".py",
   "mimetype": "text/x-python",
   "name": "python",
   "nbconvert_exporter": "python",
   "pygments_lexer": "ipython3",
   "version": "3.8.5"
  }
 },
 "nbformat": 4,
 "nbformat_minor": 4
}
